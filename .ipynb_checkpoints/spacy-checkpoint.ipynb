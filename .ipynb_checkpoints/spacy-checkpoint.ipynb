{
 "cells": [
  {
   "cell_type": "code",
   "execution_count": null,
   "metadata": {
    "id": "Ez9Ip9vbwEKS"
   },
   "outputs": [],
   "source": [
    "!pip install -U spacy==3.2.0"
   ]
  },
  {
   "cell_type": "code",
   "execution_count": null,
   "metadata": {
    "id": "opLgfwKNwR3M"
   },
   "outputs": [],
   "source": [
    "!python -m spacy download 'pt_core_news_lg'"
   ]
  },
  {
   "cell_type": "code",
   "execution_count": 4,
   "metadata": {
    "executionInfo": {
     "elapsed": 7115,
     "status": "ok",
     "timestamp": 1666113740006,
     "user": {
      "displayName": "Thiago Oliveira",
      "userId": "16601839856738843834"
     },
     "user_tz": 180
    },
    "id": "g-8xPY8ewoCh"
   },
   "outputs": [],
   "source": [
    "import spacy"
   ]
  },
  {
   "cell_type": "code",
   "execution_count": 5,
   "metadata": {
    "executionInfo": {
     "elapsed": 5449,
     "status": "ok",
     "timestamp": 1666113745451,
     "user": {
      "displayName": "Thiago Oliveira",
      "userId": "16601839856738843834"
     },
     "user_tz": 180
    },
    "id": "714xGKTXxCRE"
   },
   "outputs": [],
   "source": [
    "nlp = spacy.load(\"pt_core_news_lg\")"
   ]
  },
  {
   "cell_type": "code",
   "execution_count": 6,
   "metadata": {
    "colab": {
     "base_uri": "https://localhost:8080/"
    },
    "executionInfo": {
     "elapsed": 11,
     "status": "ok",
     "timestamp": 1666113745452,
     "user": {
      "displayName": "Thiago Oliveira",
      "userId": "16601839856738843834"
     },
     "user_tz": 180
    },
    "id": "abOB1VpSxNE1",
    "outputId": "309b06bf-46a9-440b-bba2-f65291267e26"
   },
   "outputs": [
    {
     "name": "stdout",
     "output_type": "stream",
     "text": [
      "<class 'spacy.lang.pt.Portuguese'>\n"
     ]
    }
   ],
   "source": [
    "print(type(nlp))"
   ]
  },
  {
   "cell_type": "code",
   "execution_count": 7,
   "metadata": {
    "colab": {
     "base_uri": "https://localhost:8080/"
    },
    "executionInfo": {
     "elapsed": 11,
     "status": "ok",
     "timestamp": 1666113745453,
     "user": {
      "displayName": "Thiago Oliveira",
      "userId": "16601839856738843834"
     },
     "user_tz": 180
    },
    "id": "l_Y8iq7WxeUE",
    "outputId": "2b201ac8-f3f3-406c-f2ac-d54ca5759dc9"
   },
   "outputs": [
    {
     "name": "stdout",
     "output_type": "stream",
     "text": [
      "['tok2vec', 'morphologizer', 'parser', 'attribute_ruler', 'lemmatizer', 'ner']\n"
     ]
    }
   ],
   "source": [
    "print(nlp.pipe_names)"
   ]
  },
  {
   "cell_type": "code",
   "execution_count": 8,
   "metadata": {
    "executionInfo": {
     "elapsed": 496,
     "status": "ok",
     "timestamp": 1666113745940,
     "user": {
      "displayName": "Thiago Oliveira",
      "userId": "16601839856738843834"
     },
     "user_tz": 180
    },
    "id": "853UAl4RxhN4"
   },
   "outputs": [],
   "source": [
    "documento = nlp(\"As ações do Magazine Luiza S.A., Franca, Brasil, acumularam baixa de 70% ao ano. Assim já devolveram todos os ganhos do período da pandemia\")\n",
    "#documento = nlp(\"Alegações extraordinárias requerem evidências extraordinárias. Carl Sagan: 'https://carlsagan.com'\")"
   ]
  },
  {
   "cell_type": "code",
   "execution_count": 9,
   "metadata": {
    "colab": {
     "base_uri": "https://localhost:8080/"
    },
    "executionInfo": {
     "elapsed": 42,
     "status": "ok",
     "timestamp": 1666113745941,
     "user": {
      "displayName": "Thiago Oliveira",
      "userId": "16601839856738843834"
     },
     "user_tz": 180
    },
    "id": "URUxYZnzyDZB",
    "outputId": "c0537808-18f8-4121-c9cb-d5a762921959"
   },
   "outputs": [
    {
     "data": {
      "text/plain": [
       "375"
      ]
     },
     "execution_count": 9,
     "metadata": {},
     "output_type": "execute_result"
    }
   ],
   "source": [
    "len(documento.vocab)"
   ]
  },
  {
   "cell_type": "code",
   "execution_count": 10,
   "metadata": {
    "colab": {
     "base_uri": "https://localhost:8080/"
    },
    "executionInfo": {
     "elapsed": 42,
     "status": "ok",
     "timestamp": 1666113745942,
     "user": {
      "displayName": "Thiago Oliveira",
      "userId": "16601839856738843834"
     },
     "user_tz": 180
    },
    "id": "fO2GUUIUyG4H",
    "outputId": "aab5411e-9057-4e69-beef-fc6f31ce2d34"
   },
   "outputs": [
    {
     "name": "stdout",
     "output_type": "stream",
     "text": [
      "<class 'spacy.tokens.doc.Doc'>\n"
     ]
    }
   ],
   "source": [
    "print(type(documento))"
   ]
  },
  {
   "cell_type": "markdown",
   "metadata": {
    "id": "GWLZ8WkYyskx"
   },
   "source": [
    "##Token"
   ]
  },
  {
   "cell_type": "code",
   "execution_count": null,
   "metadata": {
    "id": "bk1VUvoOyME4"
   },
   "outputs": [],
   "source": [
    "for token in documento:\n",
    "  print(token.text)"
   ]
  },
  {
   "cell_type": "code",
   "execution_count": 12,
   "metadata": {
    "colab": {
     "base_uri": "https://localhost:8080/"
    },
    "executionInfo": {
     "elapsed": 35,
     "status": "ok",
     "timestamp": 1666113745942,
     "user": {
      "displayName": "Thiago Oliveira",
      "userId": "16601839856738843834"
     },
     "user_tz": 180
    },
    "id": "vX7uTqVDy66u",
    "outputId": "a7f0d76e-463b-4e2b-9b00-dbc91520f2a7"
   },
   "outputs": [
    {
     "name": "stdout",
     "output_type": "stream",
     "text": [
      "Magazine\n"
     ]
    }
   ],
   "source": [
    "print(documento[3])"
   ]
  },
  {
   "cell_type": "code",
   "execution_count": 13,
   "metadata": {
    "colab": {
     "base_uri": "https://localhost:8080/"
    },
    "executionInfo": {
     "elapsed": 33,
     "status": "ok",
     "timestamp": 1666113745942,
     "user": {
      "displayName": "Thiago Oliveira",
      "userId": "16601839856738843834"
     },
     "user_tz": 180
    },
    "id": "UK425UE9znzv",
    "outputId": "bab9b70a-831e-44b0-f3a4-e325ff55eed1"
   },
   "outputs": [
    {
     "name": "stdout",
     "output_type": "stream",
     "text": [
      "Magazine Luiza\n"
     ]
    }
   ],
   "source": [
    "print(documento[3:5])"
   ]
  },
  {
   "cell_type": "code",
   "execution_count": 14,
   "metadata": {
    "colab": {
     "base_uri": "https://localhost:8080/"
    },
    "executionInfo": {
     "elapsed": 33,
     "status": "ok",
     "timestamp": 1666113745943,
     "user": {
      "displayName": "Thiago Oliveira",
      "userId": "16601839856738843834"
     },
     "user_tz": 180
    },
    "id": "b3zyLDsxz0qu",
    "outputId": "a66b884d-8851-408d-a4cc-ef9b04ab42ee"
   },
   "outputs": [
    {
     "name": "stdout",
     "output_type": "stream",
     "text": [
      "29\n"
     ]
    }
   ],
   "source": [
    "print(len(documento))"
   ]
  },
  {
   "cell_type": "code",
   "execution_count": null,
   "metadata": {
    "id": "IB_aToKlz2gu"
   },
   "outputs": [],
   "source": [
    "print(\"Tokens:\" , [token.text for token in documento ])"
   ]
  },
  {
   "cell_type": "markdown",
   "metadata": {
    "id": "z4sBaaxZ6duM"
   },
   "source": []
  },
  {
   "cell_type": "code",
   "execution_count": null,
   "metadata": {
    "id": "CLCNsS9f0F2G"
   },
   "outputs": [],
   "source": [
    "print(\"Tokens:\" , [token.text for token in documento ])\n",
    "print(\"Stop word:\" , [token.is_stop for token in documento ])\n",
    "print(\"Alfanumérico:\" , [token.is_alpha for token in documento ])\n",
    "print(\"Maísculo:\" , [token.is_upper for token in documento ])\n",
    "print(\"Pontuação:\" , [token.is_punct for token in documento ])\n",
    "print(\"Número:\" , [token.like_num for token in documento ])\n",
    "print(\"Sentença Inicial:\" , [token.is_sent_start for token in documento ])"
   ]
  },
  {
   "cell_type": "code",
   "execution_count": null,
   "metadata": {
    "id": "7UPmcYZr1LX6"
   },
   "outputs": [],
   "source": [
    "print(\"Tokens:\" , [token.text for token in documento ])\n",
    "print(\"Stop word:\" , [token.shape_ for token in documento ])"
   ]
  },
  {
   "cell_type": "code",
   "execution_count": null,
   "metadata": {
    "id": "NXwT00cn1Pm9"
   },
   "outputs": [],
   "source": [
    "for token in documento:\n",
    "  if token.like_num:\n",
    "    print(\"Número encontrado: \",token.text)\n",
    "  if token.is_punct:\n",
    "    print(\"Pontuação encontrada: \", token.text)"
   ]
  },
  {
   "cell_type": "markdown",
   "metadata": {
    "id": "ISVxh7Rg6gU2"
   },
   "source": []
  },
  {
   "cell_type": "code",
   "execution_count": null,
   "metadata": {
    "id": "OpUe54vx4sAh"
   },
   "outputs": [],
   "source": [
    "for token in documento:\n",
    "  print(token.text,\" - \" , token.pos_, \" - \", token.dep_ , \" - \", token.lemma_, \" - \", token.shape_)"
   ]
  },
  {
   "cell_type": "code",
   "execution_count": null,
   "metadata": {
    "id": "FVCbq2YU5m7e"
   },
   "outputs": [],
   "source": [
    "for token in documento:\n",
    "  print(token.text,\" - \" , token.morph)"
   ]
  },
  {
   "cell_type": "code",
   "execution_count": null,
   "metadata": {
    "id": "qX9w1cRM558P"
   },
   "outputs": [],
   "source": [
    "for token in documento:\n",
    "  print(token.text,\" - \" , token.tag_)"
   ]
  },
  {
   "cell_type": "markdown",
   "metadata": {
    "id": "Q5VmDoqs6ai5"
   },
   "source": [
    "##Entidades nomeadas"
   ]
  },
  {
   "cell_type": "code",
   "execution_count": null,
   "metadata": {
    "id": "A0rRa-ro6XmC"
   },
   "outputs": [],
   "source": [
    "for ent in documento.ents:\n",
    "  print(ent.text,\" - \",ent.label_)"
   ]
  },
  {
   "cell_type": "markdown",
   "metadata": {
    "id": "J8-swzb86-CI"
   },
   "source": [
    "##Stop Words"
   ]
  },
  {
   "cell_type": "code",
   "execution_count": null,
   "metadata": {
    "id": "kcpU0L8W7AWE"
   },
   "outputs": [],
   "source": [
    "for token in documento:\n",
    "  if token.is_stop:\n",
    "    print(\"Stop word: \", token.text)"
   ]
  },
  {
   "cell_type": "code",
   "execution_count": null,
   "metadata": {
    "id": "hzK01sjD7ahp"
   },
   "outputs": [],
   "source": [
    "for words in nlp.Defaults.stop_words:\n",
    "  print(words)"
   ]
  },
  {
   "cell_type": "code",
   "execution_count": 25,
   "metadata": {
    "executionInfo": {
     "elapsed": 18,
     "status": "ok",
     "timestamp": 1666113746289,
     "user": {
      "displayName": "Thiago Oliveira",
      "userId": "16601839856738843834"
     },
     "user_tz": 180
    },
    "id": "izyWuP-h7xOL"
   },
   "outputs": [],
   "source": [
    "nlp.Defaults.stop_words.add(\"eita\")\n",
    "nlp.vocab['eita'].is_stop = True"
   ]
  },
  {
   "cell_type": "code",
   "execution_count": null,
   "metadata": {
    "id": "x5Oq03Bo8DrF"
   },
   "outputs": [],
   "source": [
    "token_lista = []\n",
    "for token in documento:\n",
    "  token_lista.append(token.text)\n",
    "\n",
    "stop_lista = []\n",
    "for words in nlp.Defaults.stop_words:\n",
    "  stop_lista.append(words)\n",
    "\n",
    "semstop = [word for word in token_lista if not word in stop_lista]\n",
    "\n",
    "print(documento.text)\n",
    "print(semstop)"
   ]
  },
  {
   "cell_type": "markdown",
   "metadata": {
    "id": "fLRVYQu69NQS"
   },
   "source": [
    "##Vocab"
   ]
  },
  {
   "cell_type": "code",
   "execution_count": null,
   "metadata": {
    "id": "JPVvni-j9P1s"
   },
   "outputs": [],
   "source": [
    "print(\"Hash: \",nlp.vocab.strings[\"dados\"])\n",
    "print(\"Hash: \",documento.vocab.strings[\"dados\"])\n",
    "print(\"String: \",nlp.vocab.strings[6013848609874238634])"
   ]
  },
  {
   "cell_type": "code",
   "execution_count": null,
   "metadata": {
    "id": "Xee-mJoW-ATq"
   },
   "outputs": [],
   "source": [
    "lex = nlp.vocab[\"dados\"]\n",
    "print(lex.text,\" - \",lex.orth, \" - \", lex.is_alpha, \" - \", lex.is_lower)"
   ]
  },
  {
   "cell_type": "code",
   "execution_count": null,
   "metadata": {
    "id": "lvhbc4VE-mSc"
   },
   "outputs": [],
   "source": [
    "print(nlp(\"dados\").vector.shape)"
   ]
  },
  {
   "cell_type": "markdown",
   "metadata": {
    "id": "j-VDJzW3E9e_"
   },
   "source": [
    "## Similaridade\n",
    " - Retornar um valor (métrica de similaridade)"
   ]
  },
  {
   "cell_type": "code",
   "execution_count": 30,
   "metadata": {
    "colab": {
     "base_uri": "https://localhost:8080/"
    },
    "executionInfo": {
     "elapsed": 11,
     "status": "ok",
     "timestamp": 1666113746291,
     "user": {
      "displayName": "Thiago Oliveira",
      "userId": "16601839856738843834"
     },
     "user_tz": 180
    },
    "id": "pekWgjVOGDIh",
    "outputId": "31f4abf7-b6dd-4c49-bb5c-668b08aedbc8"
   },
   "outputs": [
    {
     "name": "stdout",
     "output_type": "stream",
     "text": [
      "0.894174124950273\n"
     ]
    }
   ],
   "source": [
    "documento1 = nlp (\"Ele viaja regularmente de carro\")\n",
    "documento2 = nlp (\"Ela viaja regularmente de avião\")\n",
    "print(documento1.similarity(documento2))"
   ]
  },
  {
   "cell_type": "code",
   "execution_count": 31,
   "metadata": {
    "colab": {
     "base_uri": "https://localhost:8080/"
    },
    "executionInfo": {
     "elapsed": 311,
     "status": "ok",
     "timestamp": 1666113930231,
     "user": {
      "displayName": "Thiago Oliveira",
      "userId": "16601839856738843834"
     },
     "user_tz": 180
    },
    "id": "WaGSXnVuH6FO",
    "outputId": "30c7a247-fd99-458f-91aa-63131bc4a310"
   },
   "outputs": [
    {
     "name": "stdout",
     "output_type": "stream",
     "text": [
      "0.580434\n"
     ]
    }
   ],
   "source": [
    "documento3 = nlp (\"Devemos dizer comprimento ou cumprimento?\")\n",
    "tokenA= documento3[2]\n",
    "tokenB= documento3[4]\n",
    "print(tokenA.similarity(tokenB))\n"
   ]
  },
  {
   "cell_type": "code",
   "execution_count": 32,
   "metadata": {
    "colab": {
     "base_uri": "https://localhost:8080/"
    },
    "executionInfo": {
     "elapsed": 4,
     "status": "ok",
     "timestamp": 1666114047558,
     "user": {
      "displayName": "Thiago Oliveira",
      "userId": "16601839856738843834"
     },
     "user_tz": 180
    },
    "id": "eArDZGgLIZXa",
    "outputId": "4aa77b66-d601-498d-de60-f81f4303dca5"
   },
   "outputs": [
    {
     "name": "stdout",
     "output_type": "stream",
     "text": [
      "0.96300536\n"
     ]
    }
   ],
   "source": [
    "documento4 = nlp (\"Ele pede descrição. Ele pede discrição\")\n",
    "partA = documento4[0:3]\n",
    "partB = documento4[4:7]\n",
    "\n",
    "print(partA.similarity(partB))\n",
    "\n"
   ]
  },
  {
   "cell_type": "markdown",
   "metadata": {
    "id": "-wDXcvIQF0mk"
   },
   "source": [
    "## Matcher\n",
    " - Busca um padrão, retorna se encontra (semelhante a expressão regular)"
   ]
  },
  {
   "cell_type": "code",
   "execution_count": 33,
   "metadata": {
    "colab": {
     "base_uri": "https://localhost:8080/"
    },
    "executionInfo": {
     "elapsed": 313,
     "status": "ok",
     "timestamp": 1666114451384,
     "user": {
      "displayName": "Thiago Oliveira",
      "userId": "16601839856738843834"
     },
     "user_tz": 180
    },
    "id": "N7Dlrf6YE_aX",
    "outputId": "ad3d14b1-f09e-4a30-dee7-b277edd59b68"
   },
   "outputs": [
    {
     "name": "stdout",
     "output_type": "stream",
     "text": [
      "(51) - 9964656570\n",
      "(11) 12344988\n"
     ]
    }
   ],
   "source": [
    "from spacy.matcher import Matcher\n",
    "#inicializa\n",
    "matcher = Matcher(nlp.vocab)\n",
    "\n",
    "#Adiciona padrão para telefone (41) - 778778877\n",
    "padrao =  [ {\"ORTH\" :\"(\" },{\"SHAPE\": \"dd\"} , {\"ORTH\": \")\"}, {\"ORTH\": \"-\", \"OP\": \"?\"}, {\"IS_DIGIT\": True}]\n",
    "matcher.add(\"Telefone\",[padrao])\n",
    "\n",
    "documento5 = nlp (\"Você pode ligar para (51) - 9964656570 ou (11) 12344988\")\n",
    "\n",
    "matches = matcher(documento5)\n",
    "for match_id, start, end in matches:\n",
    "  print(documento5[start:end])"
   ]
  },
  {
   "cell_type": "code",
   "execution_count": null,
   "metadata": {
    "id": "cDaGF_cVLtfk"
   },
   "outputs": [],
   "source": [
    "documento6 = nlp (\"Estamos infectados com micro organismos. MICROORGANISMOS são perigosos. Não enxergamos micro-organismos\")\n",
    "matcher = Matcher(nlp.vocab)\n",
    "padrao1 = [ {\"LOWER\" : \"micro-organismos\"}  ] \n",
    "padrao2 = [ {\"LOWER\" : \"microorganismos\"}  ] \n",
    "padrao3 = [ {\"LOWER\" : \"micro\"}, {\"LOWER\":\"organismos\"}  ] \n",
    "\n",
    "matcher.add(\"padrao\",[padrao1,padrao2,padrao3])\n",
    "\n",
    "matches = matcher(documento6)\n",
    "for match_id, start, end in matches:\n",
    "  print(documento6[start:end])\n"
   ]
  },
  {
   "cell_type": "markdown",
   "metadata": {
    "id": "pMA_PGlxXSuB"
   },
   "source": [
    "##Displacy\n",
    " - Entidades Nomeadas\n",
    " - Dependência"
   ]
  },
  {
   "cell_type": "code",
   "execution_count": null,
   "metadata": {
    "id": "Y7Od2n3RXbvC"
   },
   "outputs": [],
   "source": [
    "from spacy import displacy\n",
    "displacy.render(documento,style=\"ent\", jupyter = True)\n"
   ]
  },
  {
   "cell_type": "code",
   "execution_count": null,
   "metadata": {
    "id": "5CFmMjPfYBSU"
   },
   "outputs": [],
   "source": [
    "documento.user_data[\"title\"] = \"Exemplo\"\n",
    "displacy.render(documento,style=\"dep\", jupyter = True,\n",
    "                  options= {\"compact\" : True, \"distance\" : 70, \"color\" : \"#FFFFFF\" , \"bg\" : \"#000000\" , \"font\" : \"Arial\"}\n",
    "                )\n"
   ]
  },
  {
   "cell_type": "markdown",
   "metadata": {
    "id": "yYMltiCDZCWB"
   },
   "source": [
    "## Pipeline"
   ]
  },
  {
   "cell_type": "code",
   "execution_count": 47,
   "metadata": {
    "colab": {
     "base_uri": "https://localhost:8080/"
    },
    "executionInfo": {
     "elapsed": 4,
     "status": "ok",
     "timestamp": 1666120123851,
     "user": {
      "displayName": "Thiago Oliveira",
      "userId": "16601839856738843834"
     },
     "user_tz": 180
    },
    "id": "oTbpc5r9fF4K",
    "outputId": "3d1a3e59-5330-4816-a2d4-fece5ffe8f2d"
   },
   "outputs": [
    {
     "name": "stdout",
     "output_type": "stream",
     "text": [
      "Pipeline Normal:  ['morphologizer', 'parser', 'attribute_ruler', 'lemmatizer', 'ner']\n"
     ]
    }
   ],
   "source": [
    "print(\"Pipeline Normal: \", nlp.pipe_names)"
   ]
  },
  {
   "cell_type": "code",
   "execution_count": null,
   "metadata": {
    "id": "b643bFdNfQ3D"
   },
   "outputs": [],
   "source": [
    "nlp.remove_pipe(\"tok2vec\")\n",
    "print(\"Pipeline sem tok2vec: \", nlp.pipe_names)"
   ]
  },
  {
   "cell_type": "code",
   "execution_count": 48,
   "metadata": {
    "colab": {
     "base_uri": "https://localhost:8080/"
    },
    "executionInfo": {
     "elapsed": 5,
     "status": "ok",
     "timestamp": 1666120128898,
     "user": {
      "displayName": "Thiago Oliveira",
      "userId": "16601839856738843834"
     },
     "user_tz": 180
    },
    "id": "MycD8X3KftV5",
    "outputId": "84beba2c-da9f-4c05-9847-acbcd48432db"
   },
   "outputs": [
    {
     "name": "stdout",
     "output_type": "stream",
     "text": [
      "Pipeline Normal:  ['morphologizer', 'tok2vec', 'parser', 'attribute_ruler', 'lemmatizer', 'ner']\n"
     ]
    }
   ],
   "source": [
    "nlp.add_pipe(\"tok2vec\", after=\"morphologizer\")\n",
    "print(\"Pipeline Normal: \", nlp.pipe_names)"
   ]
  }
 ],
 "metadata": {
  "colab": {
   "authorship_tag": "ABX9TyP3mAwURQxS7Hbn38epTjMX",
   "provenance": []
  },
  "kernelspec": {
   "display_name": "Python 3 (ipykernel)",
   "language": "python",
   "name": "python3"
  },
  "language_info": {
   "codemirror_mode": {
    "name": "ipython",
    "version": 3
   },
   "file_extension": ".py",
   "mimetype": "text/x-python",
   "name": "python",
   "nbconvert_exporter": "python",
   "pygments_lexer": "ipython3",
   "version": "3.9.12"
  }
 },
 "nbformat": 4,
 "nbformat_minor": 1
}
